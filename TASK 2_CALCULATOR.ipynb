{
 "cells": [
  {
   "cell_type": "code",
   "execution_count": 1,
   "id": "30237cab-9783-4171-b6c5-97ebd5eb76f3",
   "metadata": {},
   "outputs": [],
   "source": [
    "# Function to perform division\n",
    "def div(x, y):\n",
    "    if y == 0:\n",
    "        return \"Error! Division by zero.\"\n",
    "    else:\n",
    "        return x / y"
   ]
  },
  {
   "cell_type": "code",
   "execution_count": 2,
   "id": "19325bd1-a4ce-4903-a5a3-9b022bfc9e77",
   "metadata": {},
   "outputs": [],
   "source": [
    "# Function to perform multiplication\n",
    "def mult(x, y):\n",
    "    return x * y"
   ]
  },
  {
   "cell_type": "code",
   "execution_count": 3,
   "id": "ce2688fc-d19f-4613-a497-87193fc65ebc",
   "metadata": {},
   "outputs": [],
   "source": [
    "# Function to perform addition\n",
    "def add(x, y):\n",
    "    return x + y"
   ]
  },
  {
   "cell_type": "code",
   "execution_count": 4,
   "id": "085189fa-de4c-424d-bd82-5f8ddd0ba081",
   "metadata": {},
   "outputs": [],
   "source": [
    "# Function to perform subtraction\n",
    "def sub(x, y):\n",
    "    return x - y"
   ]
  },
  {
   "cell_type": "code",
   "execution_count": 5,
   "id": "39ade2e3-c4a4-40ce-910f-e186e7276e9d",
   "metadata": {},
   "outputs": [],
   "source": [
    "# Function to display the calculator to perform operations\n",
    "def calculator():\n",
    "    print(\"Simple Calculator\")\n",
    "    print(\"Select operation - \")\n",
    "    print(\"1. Division\")\n",
    "    print(\"2. Multiplication\")\n",
    "    print(\"3. Addition\")\n",
    "    print(\"4. Subtraction\")\n",
    "    \n",
    "    while True:\n",
    "        choice = input(\"Enter choice (1/2/3/4): \")\n",
    "\n",
    "        if choice in ['1', '2', '3', '4']:\n",
    "            num1 = float(input(\"Enter first number - \"))\n",
    "            num2 = float(input(\"Enter second number - \"))\n",
    "\n",
    "            if choice == '1':\n",
    "                result = div(num1, num2)\n",
    "                print(f\"The result of {num1} / {num2} is {result}\")\n",
    "            elif choice == '2':\n",
    "                result = mult(num1, num2)\n",
    "                print(f\"The result of {num1} * {num2} is {result}\") \n",
    "            elif choice == '3':\n",
    "                result = add(num1, num2)\n",
    "                print(f\"The result of {num1} + {num2} is {result}\")\n",
    "            elif choice == '4':\n",
    "                result = sub(num1, num2)\n",
    "                print(f\"The result of {num1} - {num2} is {result}\")\n",
    "        else:\n",
    "            print(\"Invalid Input\")"
   ]
  },
  {
   "cell_type": "code",
   "execution_count": null,
   "id": "1e4064b4-31a8-4e5b-b956-5c899f12974d",
   "metadata": {},
   "outputs": [
    {
     "name": "stdout",
     "output_type": "stream",
     "text": [
      "Simple Calculator\n",
      "Select operation - \n",
      "1. Division\n",
      "2. Multiplication\n",
      "3. Addition\n",
      "4. Subtraction\n"
     ]
    },
    {
     "name": "stdin",
     "output_type": "stream",
     "text": [
      "Enter choice (1/2/3/4):  3\n",
      "Enter first number -  6\n",
      "Enter second number -  8\n"
     ]
    },
    {
     "name": "stdout",
     "output_type": "stream",
     "text": [
      "The result of 6.0 + 8.0 is 14.0\n"
     ]
    },
    {
     "name": "stdin",
     "output_type": "stream",
     "text": [
      "Enter choice (1/2/3/4):  2\n",
      "Enter first number -  4\n",
      "Enter second number -  9\n"
     ]
    },
    {
     "name": "stdout",
     "output_type": "stream",
     "text": [
      "The result of 4.0 * 9.0 is 36.0\n"
     ]
    },
    {
     "name": "stdin",
     "output_type": "stream",
     "text": [
      "Enter choice (1/2/3/4):  5\n"
     ]
    },
    {
     "name": "stdout",
     "output_type": "stream",
     "text": [
      "Invalid Input\n"
     ]
    }
   ],
   "source": [
    "# Run the calculator\n",
    "calculator()"
   ]
  }
 ],
 "metadata": {
  "kernelspec": {
   "display_name": "Python 3 (ipykernel)",
   "language": "python",
   "name": "python3"
  },
  "language_info": {
   "codemirror_mode": {
    "name": "ipython",
    "version": 3
   },
   "file_extension": ".py",
   "mimetype": "text/x-python",
   "name": "python",
   "nbconvert_exporter": "python",
   "pygments_lexer": "ipython3",
   "version": "3.11.7"
  }
 },
 "nbformat": 4,
 "nbformat_minor": 5
}
