{
 "cells": [
  {
   "cell_type": "code",
   "execution_count": 1,
   "id": "3ba8d1ce-a3ef-47ca-8f49-5ef6c39d235c",
   "metadata": {},
   "outputs": [],
   "source": [
    "# List to store tasks\n",
    "to_do_list = []"
   ]
  },
  {
   "cell_type": "code",
   "execution_count": 2,
   "id": "abfdcfcc-aa00-42d1-9a87-a864a5540aed",
   "metadata": {},
   "outputs": [],
   "source": [
    "# Function to add a task\n",
    "def add(task):\n",
    "    to_do_list.append(task)\n",
    "    print(f\"Task '{task}' added to the list.\")"
   ]
  },
  {
   "cell_type": "code",
   "execution_count": 3,
   "id": "74e40526-7b9a-4ee8-9a71-3035df390f05",
   "metadata": {},
   "outputs": [],
   "source": [
    "# Function to remove a task\n",
    "def remove(task):\n",
    "    if task in to_do_list:\n",
    "        to_do_list.remove(task)\n",
    "        print(f\"Task '{task}' removed from the list.\")\n",
    "    else:\n",
    "        print(f\"Task '{task}' not found in the list.\")"
   ]
  },
  {
   "cell_type": "code",
   "execution_count": 4,
   "id": "aa953beb-fb5a-4410-b8ad-46de29386910",
   "metadata": {},
   "outputs": [],
   "source": [
    "# Function to view all tasks\n",
    "def view():\n",
    "    if to_do_list:\n",
    "        print(\"To-Do List - \")\n",
    "        for idx, task in enumerate(to_do_list, 1):\n",
    "            print(f\"{idx}. {task}\")\n",
    "    else:\n",
    "        print(\"The to-do list is empty.\")"
   ]
  },
  {
   "cell_type": "code",
   "execution_count": 5,
   "id": "0438a5c9-c9ae-4d01-81ee-6cdf4480e389",
   "metadata": {},
   "outputs": [],
   "source": [
    "# Option to choose in TO-DO List\n",
    "def menu():\n",
    "    while True:\n",
    "        print(\"\\nTo-Do List - \")\n",
    "        print(\"1. Add Task\")\n",
    "        print(\"2. Remove Task\")\n",
    "        print(\"3. View Tasks\")\n",
    "        print(\"4. Exit\")\n",
    "        choice = input(\"Enter your choice - \")\n",
    "\n",
    "        if choice == '1':\n",
    "            task = input(\"Enter the task to add - \")\n",
    "            add(task)\n",
    "        elif choice == '2':\n",
    "            task = input(\"Enter the task to remove - \")\n",
    "            remove(task)\n",
    "        elif choice == '3':\n",
    "            view()\n",
    "        elif choice == '4':\n",
    "            print(\"Exit the list\")\n",
    "            break\n",
    "        else:\n",
    "            print(\"Invalid choice\")"
   ]
  },
  {
   "cell_type": "code",
   "execution_count": null,
   "id": "da9278d4-d65f-4f3b-9639-47076e4879a5",
   "metadata": {},
   "outputs": [
    {
     "name": "stdout",
     "output_type": "stream",
     "text": [
      "\n",
      "To-Do List - \n",
      "1. Add Task\n",
      "2. Remove Task\n",
      "3. View Tasks\n",
      "4. Exit\n"
     ]
    },
    {
     "name": "stdin",
     "output_type": "stream",
     "text": [
      "Enter your choice -  1\n",
      "Enter the task to add -  Homework\n"
     ]
    },
    {
     "name": "stdout",
     "output_type": "stream",
     "text": [
      "Task 'Homework' added to the list.\n",
      "\n",
      "To-Do List - \n",
      "1. Add Task\n",
      "2. Remove Task\n",
      "3. View Tasks\n",
      "4. Exit\n"
     ]
    },
    {
     "name": "stdin",
     "output_type": "stream",
     "text": [
      "Enter your choice -  1\n",
      "Enter the task to add -  Badminton Match\n"
     ]
    },
    {
     "name": "stdout",
     "output_type": "stream",
     "text": [
      "Task 'Badminton Match' added to the list.\n",
      "\n",
      "To-Do List - \n",
      "1. Add Task\n",
      "2. Remove Task\n",
      "3. View Tasks\n",
      "4. Exit\n"
     ]
    },
    {
     "name": "stdin",
     "output_type": "stream",
     "text": [
      "Enter your choice -  3\n"
     ]
    },
    {
     "name": "stdout",
     "output_type": "stream",
     "text": [
      "To-Do List - \n",
      "1. Homework\n",
      "2. Badminton Match\n",
      "\n",
      "To-Do List - \n",
      "1. Add Task\n",
      "2. Remove Task\n",
      "3. View Tasks\n",
      "4. Exit\n"
     ]
    },
    {
     "name": "stdin",
     "output_type": "stream",
     "text": [
      "Enter your choice -  2\n",
      "Enter the task to remove -  Homework\n"
     ]
    },
    {
     "name": "stdout",
     "output_type": "stream",
     "text": [
      "Task 'Homework' removed from the list.\n",
      "\n",
      "To-Do List - \n",
      "1. Add Task\n",
      "2. Remove Task\n",
      "3. View Tasks\n",
      "4. Exit\n"
     ]
    },
    {
     "name": "stdin",
     "output_type": "stream",
     "text": [
      "Enter your choice -  5\n"
     ]
    },
    {
     "name": "stdout",
     "output_type": "stream",
     "text": [
      "Invalid choice\n",
      "\n",
      "To-Do List - \n",
      "1. Add Task\n",
      "2. Remove Task\n",
      "3. View Tasks\n",
      "4. Exit\n"
     ]
    }
   ],
   "source": [
    "# Run the menu\n",
    "menu()"
   ]
  }
 ],
 "metadata": {
  "kernelspec": {
   "display_name": "Python 3 (ipykernel)",
   "language": "python",
   "name": "python3"
  },
  "language_info": {
   "codemirror_mode": {
    "name": "ipython",
    "version": 3
   },
   "file_extension": ".py",
   "mimetype": "text/x-python",
   "name": "python",
   "nbconvert_exporter": "python",
   "pygments_lexer": "ipython3",
   "version": "3.11.7"
  }
 },
 "nbformat": 4,
 "nbformat_minor": 5
}
