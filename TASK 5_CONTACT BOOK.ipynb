{
 "cells": [
  {
   "cell_type": "code",
   "execution_count": 1,
   "id": "3fe34b08-6107-4b1e-9274-f5f057e36115",
   "metadata": {},
   "outputs": [],
   "source": [
    "# List to store contacts\n",
    "contacts = []"
   ]
  },
  {
   "cell_type": "code",
   "execution_count": 2,
   "id": "2269ce5f-b0cc-4f8c-bc1a-6d4a20c17701",
   "metadata": {},
   "outputs": [],
   "source": [
    "# Function to add a contact\n",
    "def add(name, phone, email, address):\n",
    "    contacts.append({\n",
    "        \"Name\": name,\n",
    "        \"Phone No.\": phone,\n",
    "        \"Email\": email,\n",
    "        \"Address\": address\n",
    "    })\n",
    "    print(f\"Contact '{name}' added successfully\")"
   ]
  },
  {
   "cell_type": "code",
   "execution_count": 3,
   "id": "91238ef9-cd54-4cd4-bd18-cc2cdc69a146",
   "metadata": {},
   "outputs": [],
   "source": [
    "# Function to view all contacts\n",
    "def view():\n",
    "    if contacts:\n",
    "        print(\"Contact List - \")\n",
    "        for idx, contact in enumerate(contacts, 1):\n",
    "            print(f\"{idx}. {contact['Name']} - {contact['Phone No.']}\")\n",
    "    else:\n",
    "        print(\"No contacts available\")"
   ]
  },
  {
   "cell_type": "code",
   "execution_count": 4,
   "id": "37b98e90-2429-423e-b387-a2791dc7043a",
   "metadata": {},
   "outputs": [],
   "source": [
    "# Function to search for a contact\n",
    "def search(query):\n",
    "    results = [contact for contact in contacts if query.lower() in contact[\"Name\"].lower() or query in contact[\"Phone No.\"]]\n",
    "    if results:\n",
    "        for contact in results:\n",
    "            print(f\"Name: {contact['Name']}\")\n",
    "            print(f\"Phone: {contact['Phone No.']}\")\n",
    "            print(f\"Email: {contact['Email']}\")\n",
    "            print(f\"Address: {contact['Address']}\")\n",
    "            print(\"-\" * 20)\n",
    "    else:\n",
    "        print(\"No contacts found\")"
   ]
  },
  {
   "cell_type": "code",
   "execution_count": 5,
   "id": "8fba3c70-f732-48e8-b2df-b757a19c0fd6",
   "metadata": {},
   "outputs": [],
   "source": [
    "# Function to update a contact\n",
    "def update(index, name, phone, email, address):\n",
    "    if 0 <= index < len(contacts):\n",
    "        contacts[index] = {\n",
    "            \"Name\": name,\n",
    "            \"Phone No.\": phone,\n",
    "            \"Email\": email,\n",
    "            \"Address\": address\n",
    "        }\n",
    "        print(f\"Contact at index {index + 1} updated successfully.\")\n",
    "    else:\n",
    "        print(\"Invalid index\")"
   ]
  },
  {
   "cell_type": "code",
   "execution_count": 6,
   "id": "ffd7bbdf-e922-47ad-afc0-c7251a735134",
   "metadata": {},
   "outputs": [],
   "source": [
    "# Function to delete a contact\n",
    "def delete(index):\n",
    "    if 0 <= index < len(contacts):\n",
    "        removed_contact = contacts.pop(index)\n",
    "        print(f\"Contact '{removed_contact['Name']}' deleted successfully\")\n",
    "    else:\n",
    "        print(\"Invalid index\")"
   ]
  },
  {
   "cell_type": "code",
   "execution_count": 7,
   "id": "f208a592-5dab-4224-8ae1-b0294b12f6a9",
   "metadata": {},
   "outputs": [],
   "source": [
    "# User interface for contact details\n",
    "def contact_details():\n",
    "    while True:\n",
    "        print(\"\\nContact Book - \")\n",
    "        print(\"1. Add Contact\")\n",
    "        print(\"2. View Contact List\")\n",
    "        print(\"3. Search Contact\")\n",
    "        print(\"4. Update Contact\")\n",
    "        print(\"5. Delete Contact\")\n",
    "        print(\"6. Exit\")\n",
    "        \n",
    "        choice = input(\"Enter your choice (1/2/3/4/5/6): \")\n",
    "\n",
    "        if choice == '1':\n",
    "            name = input(\"Enter name - \")\n",
    "            phone = input(\"Enter phone number - \")\n",
    "            email = input(\"Enter email - \")\n",
    "            address = input(\"Enter address - \")\n",
    "            add(name, phone, email, address)\n",
    "        elif choice == '2':\n",
    "            view()\n",
    "        elif choice == '3':\n",
    "            query = input(\"Enter name or phone number to search - \")\n",
    "            search(query)\n",
    "        elif choice == '4':\n",
    "            view()\n",
    "            index = int(input(\"Enter the contact index to update - \")) - 1\n",
    "            name = input(\"Enter new name - \")\n",
    "            phone = input(\"Enter new phone number - \") \n",
    "            email = input(\"Enter new email - \")\n",
    "            address = input(\"Enter new address - \")\n",
    "            update(index, name, phone, email, address)\n",
    "        elif choice == '5':\n",
    "            view()\n",
    "            index = int(input(\"Enter the contact index to delete - \")) - 1\n",
    "            delete(index)\n",
    "        elif choice == '6':\n",
    "            print(\"Exit\")\n",
    "            break\n",
    "        else:\n",
    "            print(\"Invalid choice. Please try again.\")\n"
   ]
  },
  {
   "cell_type": "code",
   "execution_count": 8,
   "id": "a0bdc3a8-f8ba-473d-b61e-a845c0bd1b55",
   "metadata": {},
   "outputs": [
    {
     "name": "stdout",
     "output_type": "stream",
     "text": [
      "\n",
      "Contact Book - \n",
      "1. Add Contact\n",
      "2. View Contact List\n",
      "3. Search Contact\n",
      "4. Update Contact\n",
      "5. Delete Contact\n",
      "6. Exit\n"
     ]
    },
    {
     "name": "stdin",
     "output_type": "stream",
     "text": [
      "Enter your choice (1/2/3/4/5/6):  1\n",
      "Enter name -  Ramesh\n",
      "Enter phone number -  6838739398\n",
      "Enter email -  ramesh@gmail.com\n",
      "Enter address -  Jaipur\n"
     ]
    },
    {
     "name": "stdout",
     "output_type": "stream",
     "text": [
      "Contact 'Ramesh' added successfully\n",
      "\n",
      "Contact Book - \n",
      "1. Add Contact\n",
      "2. View Contact List\n",
      "3. Search Contact\n",
      "4. Update Contact\n",
      "5. Delete Contact\n",
      "6. Exit\n"
     ]
    },
    {
     "name": "stdin",
     "output_type": "stream",
     "text": [
      "Enter your choice (1/2/3/4/5/6):  2\n"
     ]
    },
    {
     "name": "stdout",
     "output_type": "stream",
     "text": [
      "Contact List - \n",
      "1. Ramesh - 6838739398\n",
      "\n",
      "Contact Book - \n",
      "1. Add Contact\n",
      "2. View Contact List\n",
      "3. Search Contact\n",
      "4. Update Contact\n",
      "5. Delete Contact\n",
      "6. Exit\n"
     ]
    },
    {
     "name": "stdin",
     "output_type": "stream",
     "text": [
      "Enter your choice (1/2/3/4/5/6):  4\n"
     ]
    },
    {
     "name": "stdout",
     "output_type": "stream",
     "text": [
      "Contact List - \n",
      "1. Ramesh - 6838739398\n"
     ]
    },
    {
     "name": "stdin",
     "output_type": "stream",
     "text": [
      "Enter the contact index to update -  1\n",
      "Enter new name -  Sahil\n",
      "Enter new phone number -  63827932983\n",
      "Enter new email -  sahil@gmail.com\n",
      "Enter new address -  Udaipur\n"
     ]
    },
    {
     "name": "stdout",
     "output_type": "stream",
     "text": [
      "Contact at index 1 updated successfully.\n",
      "\n",
      "Contact Book - \n",
      "1. Add Contact\n",
      "2. View Contact List\n",
      "3. Search Contact\n",
      "4. Update Contact\n",
      "5. Delete Contact\n",
      "6. Exit\n"
     ]
    },
    {
     "name": "stdin",
     "output_type": "stream",
     "text": [
      "Enter your choice (1/2/3/4/5/6):  2\n"
     ]
    },
    {
     "name": "stdout",
     "output_type": "stream",
     "text": [
      "Contact List - \n",
      "1. Sahil - 63827932983\n",
      "\n",
      "Contact Book - \n",
      "1. Add Contact\n",
      "2. View Contact List\n",
      "3. Search Contact\n",
      "4. Update Contact\n",
      "5. Delete Contact\n",
      "6. Exit\n"
     ]
    },
    {
     "name": "stdin",
     "output_type": "stream",
     "text": [
      "Enter your choice (1/2/3/4/5/6):  6\n"
     ]
    },
    {
     "name": "stdout",
     "output_type": "stream",
     "text": [
      "Exit\n"
     ]
    }
   ],
   "source": [
    "# Run the contact manager\n",
    "contact_details()"
   ]
  },
  {
   "cell_type": "code",
   "execution_count": null,
   "id": "4fad1ba9-5a4d-4404-aeac-cdd44447bd85",
   "metadata": {},
   "outputs": [],
   "source": []
  }
 ],
 "metadata": {
  "kernelspec": {
   "display_name": "Python 3 (ipykernel)",
   "language": "python",
   "name": "python3"
  },
  "language_info": {
   "codemirror_mode": {
    "name": "ipython",
    "version": 3
   },
   "file_extension": ".py",
   "mimetype": "text/x-python",
   "name": "python",
   "nbconvert_exporter": "python",
   "pygments_lexer": "ipython3",
   "version": "3.11.7"
  }
 },
 "nbformat": 4,
 "nbformat_minor": 5
}
